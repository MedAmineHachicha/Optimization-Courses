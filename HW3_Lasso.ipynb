{
 "cells": [
  {
   "cell_type": "markdown",
   "metadata": {},
   "source": [
    "## Convex Optimization HW3 : LASSO\n",
    "### Name: Mohamed Amine HACHICHA"
   ]
  },
  {
   "cell_type": "code",
   "execution_count": 1,
   "metadata": {},
   "outputs": [],
   "source": [
    "import numpy as np\n",
    "import matplotlib.pyplot as plt\n",
    "import time"
   ]
  },
  {
   "cell_type": "markdown",
   "metadata": {},
   "source": [
    "#### Define useful functions"
   ]
  },
  {
   "cell_type": "code",
   "execution_count": 2,
   "metadata": {},
   "outputs": [],
   "source": [
    "def f0(v, Q, p):\n",
    "    # returns the value of the objective function of the QP\n",
    "    return v.T @ Q @ v + p.T @ v\n",
    "\n",
    "def is_feasible(v, A, b):\n",
    "    # Checks if v is feasible\n",
    "    return max(A @ v - b) <= 0\n",
    "\n",
    "def f_t(v, Q, p, b, A, t):\n",
    "    # Create the barrier function\n",
    "    if not is_feasible(v, A, b):\n",
    "        return np.inf\n",
    "    else:\n",
    "        return t * (v.T @ Q @ v + p.T @ v) - sum(np.log(b - A @ v))\n",
    "\n",
    "def grad_ft(v, Q, p, b, A, t):\n",
    "    # Gradient of the barrier function\n",
    "    return t * (2 * (Q @ v) + p) + (A/(b - A @ v).reshape(-1, 1)).sum(axis=0)\n",
    "\n",
    "def hess_ft(v, Q, b, A, t):\n",
    "    # Hessian of the barrier function\n",
    "    hessian_terms = [(A[i].reshape(-1, 1) @ A[i].reshape(-1, 1).T)/(b[i]-A[i] @ v)**2 for i in range(A.shape[0])]\n",
    "    return 2 * t * Q + np.sum(hessian_terms, axis = 0)"
   ]
  },
  {
   "cell_type": "markdown",
   "metadata": {},
   "source": [
    "#### Implement *centering_step* and *berr_method* functions"
   ]
  },
  {
   "cell_type": "code",
   "execution_count": 3,
   "metadata": {},
   "outputs": [],
   "source": [
    "def centering_step(Q, p, A, b, t, v, eps, alpha = 0.2, beta = 0.8):\n",
    "    \n",
    "    v_iterates = [v] # Contains the explored points during the centering step\n",
    "\n",
    "    grad_ft_v = grad_ft(v, Q, p, b, A, t)\n",
    "    hess_ft_v = hess_ft(v, Q, b, A, t)\n",
    "    decrement_lambd = grad_ft_v @ np.linalg.inv(hess_ft_v) @ grad_ft_v # Newton decrement\n",
    "    while (decrement_lambd/2 > eps):\n",
    "        # Compute the newton step \n",
    "        delta_v = -np.linalg.inv(hess_ft_v) @ grad_ft_v\n",
    "\n",
    "        # Do Backtracking line search\n",
    "        r = 1\n",
    "        while (f_t(v + r * delta_v, Q, p, b, A, t) > f_t(v, Q, p, b, A, t) + alpha * r * grad_ft_v.T @ delta_v):\n",
    "            r = r * beta\n",
    "\n",
    "        v = v + r * delta_v\n",
    "        v_iterates.append(v)\n",
    "        \n",
    "        # Update the newton decrement\n",
    "        grad_ft_v = grad_ft(v, Q, p, b, A, t)\n",
    "        hess_ft_v = hess_ft(v, Q, b, A, t)\n",
    "        decrement_lambd = grad_ft_v @ np.linalg.inv(hess_ft_v) @ grad_ft_v\n",
    "        \n",
    "    return v_iterates"
   ]
  },
  {
   "cell_type": "code",
   "execution_count": 4,
   "metadata": {},
   "outputs": [],
   "source": [
    "def barr_method(Q, p, A, b, v0, eps, mu = 2, alpha = 0.2, beta = 0.8, t0 = 0.1):\n",
    "    \n",
    "    if not is_feasible(v0, A, b):\n",
    "        raise ValueError('v0 is not strictly feasible')\n",
    "    \n",
    "    print('###########')\n",
    "    print('Solving with mu = {}'.format(mu))\n",
    "    \n",
    "    t = t0\n",
    "    m = len(b)\n",
    "    \n",
    "    v_arr_barrier = [v0] # Contains the explored points in outer iterations\n",
    "    v_arr_newton = [v0]\n",
    "    v = v0\n",
    "    \n",
    "    while (m/t > eps):\n",
    "        t = t * mu\n",
    "        v_newton = centering_step(Q, p, A, b, t, v, eps, alpha, beta)\n",
    "        v = v_newton[-1]\n",
    "        v_arr_barrier.append(v)\n",
    "        #v_arr_newton += [v] * len(v_newton)\n",
    "        v_arr_newton += v_newton\n",
    "    \n",
    "    print(\"Done\")\n",
    "\n",
    "    return v_arr_barrier, v_arr_newton\n"
   ]
  },
  {
   "cell_type": "markdown",
   "metadata": {},
   "source": [
    "#### We simulate our data for fitting"
   ]
  },
  {
   "cell_type": "code",
   "execution_count": 5,
   "metadata": {},
   "outputs": [],
   "source": [
    "n = 200 # Observations\n",
    "m = 50 # Variables\n",
    "\n",
    "# Simulate y = X.w + err\n",
    "X = np.random.randn(n, m)\n",
    "w = np.random.randn(m)\n",
    "err = np.random.randn(n)\n",
    "y = X @ w + err\n",
    "\n",
    "# Quadratic problem inputs\n",
    "Q = 0.5 * np.eye(n)\n",
    "p = y\n",
    "A = np.vstack((X.T, -X.T))\n",
    "lambd = 10\n",
    "b = lambd * np.ones(2 * m)"
   ]
  },
  {
   "cell_type": "markdown",
   "metadata": {},
   "source": [
    "#### We run our optimizer on the simulated data. See PDF file, question 3, for the justification of how to recover w, i.e:   \n",
    "$w_{predicted}=(X^TX)^{-1}X.(v_{fin}+y)$"
   ]
  },
  {
   "cell_type": "code",
   "execution_count": 6,
   "metadata": {},
   "outputs": [
    {
     "name": "stdout",
     "output_type": "stream",
     "text": [
      "###########\n",
      "Solving with mu = 2\n",
      "Done\n",
      "###########\n",
      "Solving with mu = 5\n",
      "Done\n",
      "###########\n",
      "Solving with mu = 15\n",
      "Done\n",
      "###########\n",
      "Solving with mu = 50\n",
      "Done\n",
      "###########\n",
      "Solving with mu = 100\n",
      "Done\n"
     ]
    }
   ],
   "source": [
    "eps = 1e-6\n",
    "mu_s = [2, 5, 15, 50, 100]\n",
    "w_predicted = {}\n",
    "gaps_newton = {}\n",
    "gaps_barrier = {}\n",
    "exec_time = {}\n",
    "\n",
    "for mu in mu_s:\n",
    "    v0 = np.zeros(n)\n",
    "    \n",
    "    start_time = time.time()\n",
    "    v_arr_barrier, v_arr_newton = barr_method(Q, p, A, b, v0, eps, mu, alpha=0.05, beta = 0.7, t0=1)\n",
    "    duration = time.time() - start_time\n",
    "    v_fin = v_arr_barrier[-1] # The final retained value v for minimizing f\n",
    "    f_opt = f0(v_fin, Q, p) # Surrogate approximation of the optimal value f*\n",
    "    \n",
    "    # compute the corresponding predicted w (see report for justification)\n",
    "    w_predicted[mu] = np.linalg.inv(X.T @ X) @ X.T @ (v_fin + y)\n",
    "\n",
    "    # Compute gaps for newton steps\n",
    "    gaps_newton[mu] = np.array([f0(v_, Q, p) - f_opt for v_ in v_arr_newton])\n",
    "    \n",
    "    # Compute gaps for outer iterations\n",
    "    gaps_barrier[mu] = np.array([f0(v_, Q, p) - f_opt for v_ in v_arr_barrier])\n",
    "    \n",
    "    # Update the execution time\n",
    "    exec_time[mu] = duration"
   ]
  },
  {
   "cell_type": "code",
   "execution_count": 7,
   "metadata": {},
   "outputs": [
    {
     "data": {
      "image/png": "[encoded data removed]",
      "text/plain": [
       "<Figure size 864x576 with 1 Axes>"
      ]
     },
     "metadata": {
      "needs_background": "light"
     },
     "output_type": "display_data"
    }
   ],
   "source": [
    "fig1 = plt.figure(figsize=(12, 8))\n",
    "plt.suptitle('Progress of the barrier method : Inner Newton iterations', size=18)\n",
    "for mu in mu_s:\n",
    "    n_iter = len(gaps_newton[mu])\n",
    "    plt.step(range(n_iter), y=gaps_newton[mu], label = mu)\n",
    "plt.yscale('log')\n",
    "plt.xlabel('Inner iterations', size=18)\n",
    "plt.ylabel('f(v)-f*', size=18)\n",
    "plt.legend(title='mu')\n",
    "plt.show()"
   ]
  },
  {
   "cell_type": "code",
   "execution_count": 8,
   "metadata": {},
   "outputs": [
    {
     "data": {
      "image/png": "[encoded data removed]",
      "text/plain": [
       "<Figure size 864x576 with 1 Axes>"
      ]
     },
     "metadata": {
      "needs_background": "light"
     },
     "output_type": "display_data"
    }
   ],
   "source": [
    "fig2 = plt.figure(figsize=(12, 8))\n",
    "plt.suptitle('Progress of the barrier method : Outer Barrier iterations', size=18)\n",
    "for mu in mu_s:\n",
    "    n_iter = len(gaps_barrier[mu])\n",
    "    plt.step(range(n_iter), y=gaps_barrier[mu], label = mu)\n",
    "plt.yscale('log')\n",
    "plt.xlabel('Outer iterations', size=18)\n",
    "plt.ylabel('f(v)-f*', size=18)\n",
    "plt.legend(title='mu')\n",
    "plt.show()"
   ]
  },
  {
   "cell_type": "markdown",
   "metadata": {},
   "source": [
    "### As expected with the barrier method, the number of needed iterations increases when $\\mu$ decreases.\n",
    "### The algorithm with $\\mu = 100$ needs the fewest newton steps and outer iterations.\n",
    "### We need roughly the same number of inner iterations with $\\mu=15$ and $\\mu=50$ even though they need more outer steps than with $\\mu=100$. \n",
    "### This shows that when $\\mu$ increases, we perform less outer iterations but each outer iteration needs more inner iterations to converge."
   ]
  },
  {
   "cell_type": "code",
   "execution_count": 9,
   "metadata": {},
   "outputs": [
    {
     "name": "stdout",
     "output_type": "stream",
     "text": [
      "---------- Execution times ----------\n",
      "For mu = 2 : 21.0 sec\n",
      "For mu = 5 : 12.1 sec\n",
      "For mu = 15 : 7.15 sec\n",
      "For mu = 50 : 7.17 sec\n",
      "For mu = 100 : 6.54 sec\n",
      "---------- Deviations from w ----------\n",
      "Deviation for mu = 2 : 0.10155547463652152\n",
      "Deviation for mu = 5 : 0.1015554748095288\n",
      "Deviation for mu = 15 : 0.1015554747189281\n",
      "Deviation for mu = 50 : 0.10155547485575567\n",
      "Deviation for mu = 100 : 0.10155547450493232\n"
     ]
    }
   ],
   "source": [
    "print('---------- Execution times ----------')\n",
    "for mu in mu_s:\n",
    "    print('For mu = {} : {}'.format(mu, str(exec_time[mu])[:4] + ' sec'))\n",
    "\n",
    "\n",
    "print('---------- Deviations from w ----------')\n",
    "deviation = {}\n",
    "\n",
    "for mu in mu_s:\n",
    "    deviation[mu] = np.linalg.norm(w_predicted[mu] - w)/np.linalg.norm(w)\n",
    "    print('Deviation for mu = {} : {}'.format(mu, deviation[mu]))"
   ]
  },
  {
   "cell_type": "markdown",
   "metadata": {},
   "source": [
    "#### We notice that the fastest resolution is with $\\mu = 100$ in terms of execution time. The deviations show that we get almost the same predicted $w$ for every $\\mu$. Therefore, an appropriate choice of $\\mu$ would be 100 : faster resolution with the same precision."
   ]
  },
  {
   "cell_type": "markdown",
   "metadata": {},
   "source": [
    "### Finally we compare our solution $v_{final}$ to the solution given by the cvxopt library's solver"
   ]
  },
  {
   "cell_type": "code",
   "execution_count": 10,
   "metadata": {},
   "outputs": [
    {
     "name": "stdout",
     "output_type": "stream",
     "text": [
      "     pcost       dcost       gap    pres   dres\n",
      " 0: -1.0242e+02 -2.3423e+03  2e+03  9e-16  2e-14\n",
      " 1: -2.7440e+02 -5.9689e+02  3e+02  8e-16  2e-15\n",
      " 2: -4.4031e+02 -4.8275e+02  4e+01  8e-16  7e-16\n",
      " 3: -4.6666e+02 -4.6973e+02  3e+00  1e-15  2e-15\n",
      " 4: -4.6856e+02 -4.6866e+02  1e-01  1e-15  6e-15\n",
      " 5: -4.6862e+02 -4.6862e+02  5e-03  1e-15  1e-13\n",
      " 6: -4.6862e+02 -4.6862e+02  2e-04  1e-15  2e-12\n",
      "Optimal solution found.\n"
     ]
    }
   ],
   "source": [
    "from cvxopt import matrix\n",
    "from cvxopt import solvers\n",
    "P = matrix(2*Q)\n",
    "q = matrix(p)\n",
    "G = matrix(A)\n",
    "h = matrix(b)\n",
    "\n",
    "sol = solvers.qp(P,q,G,h)"
   ]
  },
  {
   "cell_type": "code",
   "execution_count": 11,
   "metadata": {},
   "outputs": [
    {
     "name": "stdout",
     "output_type": "stream",
     "text": [
      "0.0001904310203659868\n"
     ]
    }
   ],
   "source": [
    "v_solver = np.array(sol['x']).reshape(1,-1)[0]\n",
    "\n",
    "diff = np.linalg.norm(v_solver-v_fin)/np.linalg.norm(v_solver)\n",
    "print(diff)"
   ]
  },
  {
   "cell_type": "markdown",
   "metadata": {},
   "source": [
    "### The difference between the two solutions is negligible. Our solver converges then to the same solution as the cvxopt library's solution"
   ]
  }
 ],
 "metadata": {
  "kernelspec": {
   "display_name": "Python 3",
   "language": "python",
   "name": "python3"
  },
  "language_info": {
   "codemirror_mode": {
    "name": "ipython",
    "version": 3
   },
   "file_extension": ".py",
   "mimetype": "text/x-python",
   "name": "python",
   "nbconvert_exporter": "python",
   "pygments_lexer": "ipython3",
   "version": "3.8.3"
  }
 },
 "nbformat": 4,
 "nbformat_minor": 4
}
